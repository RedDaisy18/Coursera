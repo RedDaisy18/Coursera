{
  "metadata": {
    "language_info": {
      "codemirror_mode": {
        "name": "python",
        "version": 3
      },
      "file_extension": ".py",
      "mimetype": "text/x-python",
      "name": "python",
      "nbconvert_exporter": "python",
      "pygments_lexer": "ipython3",
      "version": "3.8"
    },
    "kernelspec": {
      "name": "python",
      "display_name": "Python (Pyodide)",
      "language": "python"
    }
  },
  "nbformat_minor": 4,
  "nbformat": 4,
  "cells": [
    {
      "cell_type": "markdown",
      "source": "# My Jupyter Notebook on IBM Watson Studio \n",
      "metadata": {}
    },
    {
      "cell_type": "markdown",
      "source": "**Shruti Vishwakarma**  \nSoftware Developer Engineer and Cyber Security proffesional",
      "metadata": {}
    },
    {
      "cell_type": "markdown",
      "source": "_Data Science is the field of analysis of mass data , it produces results for the betterment of mankind ,it allows easier analysis of large amount of data._",
      "metadata": {}
    },
    {
      "cell_type": "markdown",
      "source": "### Below code produces sum of two integer a and b ",
      "metadata": {}
    },
    {
      "cell_type": "code",
      "source": "2+1",
      "metadata": {
        "trusted": true
      },
      "execution_count": 1,
      "outputs": [
        {
          "execution_count": 1,
          "output_type": "execute_result",
          "data": {
            "text/plain": "3"
          },
          "metadata": {}
        }
      ]
    },
    {
      "cell_type": "markdown",
      "source": "![image of a cat sitting on a chair](https://previews.123rf.com/images/reno123/reno1231412/reno123141200004/34188882-red-cat-sitting-on-wooden-chair-on-white-background.jpg)\n[this is a link to Spotify](https://open.spotify.com/)\n* task one\n* task two",
      "metadata": {}
    },
    {
      "cell_type": "code",
      "source": "",
      "metadata": {},
      "execution_count": null,
      "outputs": []
    }
  ]
}